{
  "cells": [
    {
      "cell_type": "code",
      "execution_count": null,
      "metadata": {
        "id": "7q40bdVJ2qQv"
      },
      "outputs": [],
      "source": [
        "import os\n",
        "import zipfile\n",
        "from bs4 import BeautifulSoup\n",
        "\n",
        "def clean_html_text(raw_html):\n",
        "    \"\"\" Extract and sanitize text content found between HTML tags using BeautifulSoup. \"\"\"\n",
        "    try:\n",
        "        soup = BeautifulSoup(raw_html, 'html.parser')\n",
        "        # Retrieve plain text from parsed HTML, separating elements with spaces\n",
        "        return soup.get_text(separator=' ', strip=True)\n",
        "    except Exception as error:\n",
        "        return f\"HTML parsing failed: {str(error)}\"\n",
        "\n",
        "def retrieve_and_clean_text(block):\n",
        "    \"\"\" Extracts the portion within <TEXT>...</TEXT> tags from an HTML block. \"\"\"\n",
        "    open_tag = '<TEXT>'\n",
        "    close_tag = '</TEXT>'\n",
        "    try:\n",
        "        open_idx = block.index(open_tag) + len(open_tag)\n",
        "        close_idx = block.index(close_tag)\n",
        "        inner_html = block[open_idx:close_idx]\n",
        "        return clean_html_text(inner_html)\n",
        "    except ValueError:\n",
        "        return \"Unable to locate <TEXT> tags\"\n",
        "\n",
        "def collect_and_consolidate_reports(zip_archive, output_text_file):\n",
        "    \"\"\" Extracts all relevant text blocks from the zip file and consolidates them into a single text file. \"\"\"\n",
        "    with zipfile.ZipFile(zip_archive, 'r') as archive:\n",
        "        # List all folders in the archive and filter out those following the desired structure\n",
        "        all_folders = [item for item in archive.namelist() if item.endswith('/')]\n",
        "        target_folders = [folder for folder in all_folders if folder.startswith('AMZN/10-K/') and folder.count('/') == 3]\n",
        "\n",
        "        # Write the extracted and formatted content into a specified text file\n",
        "        with open(output_text_file, 'w') as output:\n",
        "            for folder in target_folders:\n",
        "                file_name = os.path.join(folder, 'full-submission.txt')\n",
        "                if file_name in archive.namelist():\n",
        "                    with archive.open(file_name) as submission:\n",
        "                        raw_content = submission.read().decode('utf-8')\n",
        "                        cleaned_content = retrieve_and_clean_text(raw_content)\n",
        "                        folder_id = folder.strip('/')\n",
        "                        output.write(f'### {folder_id} ###\\n{cleaned_content}\\n\\n')\n",
        "\n",
        "# Usage\n",
        "zip_archive = '/content/filings.zip'\n",
        "output_text_file = 'consolidated_html_reports.txt'\n",
        "collect_and_consolidate_reports(zip_archive, output_text_file)\n"
      ]
    }
  ],
  "metadata": {
    "colab": {
      "provenance": []
    },
    "kernelspec": {
      "display_name": "Python 3",
      "name": "python3"
    },
    "language_info": {
      "name": "python"
    }
  },
  "nbformat": 4,
  "nbformat_minor": 0
}
